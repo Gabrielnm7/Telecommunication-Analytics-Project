{
 "cells": [
  {
   "cell_type": "markdown",
   "metadata": {},
   "source": [
    "#### **Importamos las librerias que usaremos durante el resto del EDA**"
   ]
  },
  {
   "cell_type": "code",
   "execution_count": 322,
   "metadata": {},
   "outputs": [],
   "source": [
    "import pandas as pd\n",
    "import seaborn as sns\n",
    "import matplotlib.pyplot as plt\n",
    "import numpy as np\n",
    "import sys\n",
    "# Para ignorar advertencias y que el codigo quede mas limpio\n",
    "if not sys.warnoptions:\n",
    "    import warnings\n",
    "    warnings.simplefilter(\"ignore\")"
   ]
  },
  {
   "cell_type": "markdown",
   "metadata": {},
   "source": [
    "Cargamos los datasets correspondientes"
   ]
  },
  {
   "cell_type": "code",
   "execution_count": 361,
   "metadata": {},
   "outputs": [],
   "source": [
    "historico_velocidad         = pd.read_csv(\"./_src/datasets/historico_velocidad_internet_prov.csv\") \n",
    "accesos_por_tecnologia_prov = pd.read_csv(\"./_src/datasets/Internet_Accesos-por-tecnologia_prov.csv\",dtype={\"Wireless\":str,\"Otros\":str})\n",
    "accesos_por_tecnologia      = pd.read_csv(\"./_src/datasets/Internet_Accesos-por-tecnologia.csv\",dtype={\"Wireless\":str,\"Otros\":str})\n",
    "accesos_por_velocidad       = pd.read_csv(\"./_src/datasets/Internet_Accesos-por-velocidad.csv\",dtype=str)\n",
    "internet_baf                = pd.read_csv(\"./_src/datasets/Internet_BAF-por-provincia.csv\")\n",
    "internet_ingresos           = pd.read_csv(\"./_src/datasets/Internet_Ingresos.csv\")\n",
    "internet_penetracion        = pd.read_csv(\"./_src/datasets/Internet_Penetracion.csv\")\n"
   ]
  },
  {
   "cell_type": "markdown",
   "metadata": {},
   "source": [
    "## **Observemos información crucial sobre las columnas y el tipo de datos que contienen, así como la cantidad de registros no nulos presentes de cada uno de los datasets**"
   ]
  },
  {
   "cell_type": "markdown",
   "metadata": {},
   "source": [
    "### Historico velocidad"
   ]
  },
  {
   "cell_type": "code",
   "execution_count": 324,
   "metadata": {},
   "outputs": [
    {
     "name": "stdout",
     "output_type": "stream",
     "text": [
      "<class 'pandas.core.frame.DataFrame'>\n",
      "RangeIndex: 840 entries, 0 to 839\n",
      "Data columns (total 6 columns):\n",
      " #   Column                  Non-Null Count  Dtype  \n",
      "---  ------                  --------------  -----  \n",
      " 0   Año                     840 non-null    int64  \n",
      " 1   Trimestre               840 non-null    int64  \n",
      " 2   Provincia               840 non-null    object \n",
      " 3   Mbps (Media de bajada)  840 non-null    int64  \n",
      " 4   Unnamed: 4              0 non-null      float64\n",
      " 5   Unnamed: 5              0 non-null      float64\n",
      "dtypes: float64(2), int64(3), object(1)\n",
      "memory usage: 39.5+ KB\n"
     ]
    }
   ],
   "source": [
    "historico_velocidad.info()"
   ]
  },
  {
   "cell_type": "code",
   "execution_count": 325,
   "metadata": {},
   "outputs": [
    {
     "data": {
      "text/html": [
       "<div>\n",
       "<style scoped>\n",
       "    .dataframe tbody tr th:only-of-type {\n",
       "        vertical-align: middle;\n",
       "    }\n",
       "\n",
       "    .dataframe tbody tr th {\n",
       "        vertical-align: top;\n",
       "    }\n",
       "\n",
       "    .dataframe thead th {\n",
       "        text-align: right;\n",
       "    }\n",
       "</style>\n",
       "<table border=\"1\" class=\"dataframe\">\n",
       "  <thead>\n",
       "    <tr style=\"text-align: right;\">\n",
       "      <th></th>\n",
       "      <th>Año</th>\n",
       "      <th>Trimestre</th>\n",
       "      <th>Provincia</th>\n",
       "      <th>Mbps (Media de bajada)</th>\n",
       "      <th>Unnamed: 4</th>\n",
       "      <th>Unnamed: 5</th>\n",
       "    </tr>\n",
       "  </thead>\n",
       "  <tbody>\n",
       "    <tr>\n",
       "      <th>0</th>\n",
       "      <td>2022</td>\n",
       "      <td>3</td>\n",
       "      <td>Buenos Aires</td>\n",
       "      <td>70</td>\n",
       "      <td>NaN</td>\n",
       "      <td>NaN</td>\n",
       "    </tr>\n",
       "    <tr>\n",
       "      <th>1</th>\n",
       "      <td>2022</td>\n",
       "      <td>3</td>\n",
       "      <td>Capital Federal</td>\n",
       "      <td>101</td>\n",
       "      <td>NaN</td>\n",
       "      <td>NaN</td>\n",
       "    </tr>\n",
       "    <tr>\n",
       "      <th>2</th>\n",
       "      <td>2022</td>\n",
       "      <td>3</td>\n",
       "      <td>Catamarca</td>\n",
       "      <td>61</td>\n",
       "      <td>NaN</td>\n",
       "      <td>NaN</td>\n",
       "    </tr>\n",
       "    <tr>\n",
       "      <th>3</th>\n",
       "      <td>2022</td>\n",
       "      <td>3</td>\n",
       "      <td>Chaco</td>\n",
       "      <td>53</td>\n",
       "      <td>NaN</td>\n",
       "      <td>NaN</td>\n",
       "    </tr>\n",
       "    <tr>\n",
       "      <th>4</th>\n",
       "      <td>2022</td>\n",
       "      <td>3</td>\n",
       "      <td>Chubut</td>\n",
       "      <td>16</td>\n",
       "      <td>NaN</td>\n",
       "      <td>NaN</td>\n",
       "    </tr>\n",
       "  </tbody>\n",
       "</table>\n",
       "</div>"
      ],
      "text/plain": [
       "    Año  Trimestre        Provincia  Mbps (Media de bajada)  Unnamed: 4  \\\n",
       "0  2022          3     Buenos Aires                      70         NaN   \n",
       "1  2022          3  Capital Federal                     101         NaN   \n",
       "2  2022          3        Catamarca                      61         NaN   \n",
       "3  2022          3            Chaco                      53         NaN   \n",
       "4  2022          3           Chubut                      16         NaN   \n",
       "\n",
       "   Unnamed: 5  \n",
       "0         NaN  \n",
       "1         NaN  \n",
       "2         NaN  \n",
       "3         NaN  \n",
       "4         NaN  "
      ]
     },
     "execution_count": 325,
     "metadata": {},
     "output_type": "execute_result"
    }
   ],
   "source": [
    "historico_velocidad.head()"
   ]
  },
  {
   "cell_type": "markdown",
   "metadata": {},
   "source": [
    "Notemos que tenemos 2 columnas totalmente irrelevantes por lo que procedemos a eliminarlas."
   ]
  },
  {
   "cell_type": "code",
   "execution_count": 326,
   "metadata": {},
   "outputs": [],
   "source": [
    "historico_velocidad.drop(columns=[\"Unnamed: 4\",\"Unnamed: 5\"],inplace=True)"
   ]
  },
  {
   "cell_type": "markdown",
   "metadata": {},
   "source": [
    "Corroboramos que no tenga ningun defecto las otras columnas"
   ]
  },
  {
   "cell_type": "code",
   "execution_count": 327,
   "metadata": {},
   "outputs": [
    {
     "name": "stdout",
     "output_type": "stream",
     "text": [
      "[2022 2021 2020 2019 2018 2017 2016 2015 2014]\n",
      "[3 2 1 4]\n",
      "['Buenos Aires' 'Capital Federal' 'Catamarca' 'Chaco' 'Chubut' 'Córdoba'\n",
      " 'Corrientes' 'Entre Ríos' 'Formosa' 'Jujuy' 'La Pampa' 'La Rioja'\n",
      " 'Mendoza' 'Misiones' 'Neuquén' 'Río Negro' 'Salta' 'San Juan' 'San Luis'\n",
      " 'Santa Cruz' 'Santa Fe' 'Santiago Del Estero' 'Tierra Del Fuego'\n",
      " 'Tucumán']\n"
     ]
    }
   ],
   "source": [
    "print(historico_velocidad[\"Año\"].unique())\n",
    "print(historico_velocidad[\"Trimestre\"].unique())\n",
    "print(historico_velocidad[\"Provincia\"].unique())"
   ]
  },
  {
   "cell_type": "code",
   "execution_count": 328,
   "metadata": {},
   "outputs": [
    {
     "data": {
      "image/png": "[encoded data removed]",
      "text/plain": [
       "<Figure size 640x480 with 1 Axes>"
      ]
     },
     "metadata": {},
     "output_type": "display_data"
    }
   ],
   "source": [
    "# Gráfico de barras agrupadas en Seaborn\n",
    "sns.barplot(data=historico_velocidad, x='Año', y='Mbps (Media de bajada)', hue='Trimestre')\n",
    "plt.xlabel('Año')\n",
    "plt.ylabel('Mbps (Media de bajada)')\n",
    "plt.title('Media de bajada de Mbps por Año y Trimestre')\n",
    "plt.show()"
   ]
  },
  {
   "cell_type": "code",
   "execution_count": 329,
   "metadata": {},
   "outputs": [],
   "source": [
    "# historico_velocidad.to_csv(\"./_src/datasets_pbi/historico_velocidad_prov.csv\",index=False)"
   ]
  },
  {
   "cell_type": "markdown",
   "metadata": {},
   "source": [
    "### accesos_por_tecnologia"
   ]
  },
  {
   "cell_type": "code",
   "execution_count": 330,
   "metadata": {},
   "outputs": [
    {
     "name": "stdout",
     "output_type": "stream",
     "text": [
      "<class 'pandas.core.frame.DataFrame'>\n",
      "RangeIndex: 35 entries, 0 to 34\n",
      "Data columns (total 9 columns):\n",
      " #   Column        Non-Null Count  Dtype \n",
      "---  ------        --------------  ----- \n",
      " 0   Año           35 non-null     int64 \n",
      " 1   Trimestre     35 non-null     int64 \n",
      " 2   ADSL          35 non-null     object\n",
      " 3   Cablemodem    35 non-null     object\n",
      " 4   Fibra óptica  35 non-null     object\n",
      " 5   Wireless      35 non-null     object\n",
      " 6   Otros         35 non-null     object\n",
      " 7   Total         35 non-null     object\n",
      " 8   Periodo       35 non-null     object\n",
      "dtypes: int64(2), object(7)\n",
      "memory usage: 2.6+ KB\n"
     ]
    }
   ],
   "source": [
    "accesos_por_tecnologia.info()"
   ]
  },
  {
   "cell_type": "code",
   "execution_count": 331,
   "metadata": {},
   "outputs": [
    {
     "data": {
      "text/html": [
       "<div>\n",
       "<style scoped>\n",
       "    .dataframe tbody tr th:only-of-type {\n",
       "        vertical-align: middle;\n",
       "    }\n",
       "\n",
       "    .dataframe tbody tr th {\n",
       "        vertical-align: top;\n",
       "    }\n",
       "\n",
       "    .dataframe thead th {\n",
       "        text-align: right;\n",
       "    }\n",
       "</style>\n",
       "<table border=\"1\" class=\"dataframe\">\n",
       "  <thead>\n",
       "    <tr style=\"text-align: right;\">\n",
       "      <th></th>\n",
       "      <th>Año</th>\n",
       "      <th>Trimestre</th>\n",
       "      <th>ADSL</th>\n",
       "      <th>Cablemodem</th>\n",
       "      <th>Fibra óptica</th>\n",
       "      <th>Wireless</th>\n",
       "      <th>Otros</th>\n",
       "      <th>Total</th>\n",
       "      <th>Periodo</th>\n",
       "    </tr>\n",
       "  </thead>\n",
       "  <tbody>\n",
       "    <tr>\n",
       "      <th>0</th>\n",
       "      <td>2022</td>\n",
       "      <td>3</td>\n",
       "      <td>1.395.277</td>\n",
       "      <td>6.031.970</td>\n",
       "      <td>2.871.541</td>\n",
       "      <td>557.110</td>\n",
       "      <td>235.230</td>\n",
       "      <td>11.091.128</td>\n",
       "      <td>Jul-Sept 2022</td>\n",
       "    </tr>\n",
       "    <tr>\n",
       "      <th>1</th>\n",
       "      <td>2022</td>\n",
       "      <td>2</td>\n",
       "      <td>1.468.333</td>\n",
       "      <td>5.979.214</td>\n",
       "      <td>2.723.285</td>\n",
       "      <td>556.243</td>\n",
       "      <td>231.609</td>\n",
       "      <td>10.958.684</td>\n",
       "      <td>Abr-Jun 2022</td>\n",
       "    </tr>\n",
       "    <tr>\n",
       "      <th>2</th>\n",
       "      <td>2022</td>\n",
       "      <td>1</td>\n",
       "      <td>1.533.240</td>\n",
       "      <td>6.073.426</td>\n",
       "      <td>2.219.533</td>\n",
       "      <td>545.814</td>\n",
       "      <td>251.996</td>\n",
       "      <td>10.624.009</td>\n",
       "      <td>Ene-Mar 2022</td>\n",
       "    </tr>\n",
       "    <tr>\n",
       "      <th>3</th>\n",
       "      <td>2021</td>\n",
       "      <td>4</td>\n",
       "      <td>1.657.615</td>\n",
       "      <td>5.984.240</td>\n",
       "      <td>2.072.236</td>\n",
       "      <td>523.107</td>\n",
       "      <td>252.596</td>\n",
       "      <td>10.489.794</td>\n",
       "      <td>Oct-Dic 2021</td>\n",
       "    </tr>\n",
       "    <tr>\n",
       "      <th>4</th>\n",
       "      <td>2021</td>\n",
       "      <td>3</td>\n",
       "      <td>1.950.631</td>\n",
       "      <td>5.826.257</td>\n",
       "      <td>1.566.048</td>\n",
       "      <td>492.415</td>\n",
       "      <td>250.190</td>\n",
       "      <td>10.085.541</td>\n",
       "      <td>Jul-Sept 2021</td>\n",
       "    </tr>\n",
       "  </tbody>\n",
       "</table>\n",
       "</div>"
      ],
      "text/plain": [
       "    Año  Trimestre       ADSL Cablemodem Fibra óptica Wireless    Otros  \\\n",
       "0  2022          3  1.395.277  6.031.970    2.871.541  557.110  235.230   \n",
       "1  2022          2  1.468.333  5.979.214    2.723.285  556.243  231.609   \n",
       "2  2022          1  1.533.240  6.073.426    2.219.533  545.814  251.996   \n",
       "3  2021          4  1.657.615  5.984.240    2.072.236  523.107  252.596   \n",
       "4  2021          3  1.950.631  5.826.257    1.566.048  492.415  250.190   \n",
       "\n",
       "        Total        Periodo  \n",
       "0  11.091.128  Jul-Sept 2022  \n",
       "1  10.958.684   Abr-Jun 2022  \n",
       "2  10.624.009   Ene-Mar 2022  \n",
       "3  10.489.794   Oct-Dic 2021  \n",
       "4  10.085.541  Jul-Sept 2021  "
      ]
     },
     "execution_count": 331,
     "metadata": {},
     "output_type": "execute_result"
    }
   ],
   "source": [
    "accesos_por_tecnologia.head()"
   ]
  },
  {
   "cell_type": "markdown",
   "metadata": {},
   "source": [
    "Notemos 2 aspectos importantes:\n",
    "1. La columna `Periodo` ya esta separada por `Año` y `Trimestre`, por lo que la eliminamos\n",
    "2. Notemos que las columnas numericas que son referentes a las tecnologias, estan expresadas en el rango de miles a millones, sin embargo estan erroneamente con los puntos por lo se \"leen\" de forma incorrecta"
   ]
  },
  {
   "cell_type": "code",
   "execution_count": 332,
   "metadata": {},
   "outputs": [],
   "source": [
    "# Creamos una funcion generalizada para transformar columnas a valor numerico\n",
    "def transform_to_numeric(dataset,columnas):\n",
    "    for columna in columnas:\n",
    "        dataset[columna] = dataset[columna].str.replace(\".\",\"\")\n",
    "        dataset[columna] = pd.to_numeric(dataset[columna])\n",
    "    return dataset"
   ]
  },
  {
   "cell_type": "code",
   "execution_count": 333,
   "metadata": {},
   "outputs": [],
   "source": [
    "accesos_por_tecnologia.drop(columns=\"Periodo\",inplace=True)\n",
    "columnas = ['ADSL', 'Cablemodem', 'Fibra óptica', 'Wireless','Otros', 'Total']\n",
    "accesos_por_tecnologia = transform_to_numeric(accesos_por_tecnologia,columnas)"
   ]
  },
  {
   "cell_type": "code",
   "execution_count": 334,
   "metadata": {},
   "outputs": [
    {
     "data": {
      "image/png": "[encoded data removed]",
      "text/plain": [
       "<Figure size 640x480 with 1 Axes>"
      ]
     },
     "metadata": {},
     "output_type": "display_data"
    }
   ],
   "source": [
    "# Gráfico de línea en Seaborn\n",
    "sns.lineplot(data=accesos_por_tecnologia, x='Año', y='Total')\n",
    "plt.xlabel('Año')\n",
    "plt.ylabel('Cantidad de Personas')\n",
    "plt.title('Evolución de contrataciones de servicios de telecomunicación')\n",
    "plt.show()"
   ]
  },
  {
   "cell_type": "code",
   "execution_count": 335,
   "metadata": {},
   "outputs": [],
   "source": [
    "# accesos_por_tecnologia.to_csv(\"./_src/datasets_pbi/accesos_por_tecnologia.csv\",index=False)"
   ]
  },
  {
   "cell_type": "markdown",
   "metadata": {},
   "source": [
    "### accesos_por_tecnologia_prov"
   ]
  },
  {
   "cell_type": "markdown",
   "metadata": {},
   "source": [
    "Este dataset tiene un proceso muy similar al anterior"
   ]
  },
  {
   "cell_type": "code",
   "execution_count": 336,
   "metadata": {},
   "outputs": [
    {
     "name": "stdout",
     "output_type": "stream",
     "text": [
      "<class 'pandas.core.frame.DataFrame'>\n",
      "RangeIndex: 841 entries, 0 to 840\n",
      "Data columns (total 9 columns):\n",
      " #   Column        Non-Null Count  Dtype \n",
      "---  ------        --------------  ----- \n",
      " 0   Año           841 non-null    object\n",
      " 1   Trimestre     841 non-null    object\n",
      " 2   Provincia     840 non-null    object\n",
      " 3   ADSL          840 non-null    object\n",
      " 4   Cablemodem    840 non-null    object\n",
      " 5   Fibra óptica  840 non-null    object\n",
      " 6   Wireless      840 non-null    object\n",
      " 7   Otros         840 non-null    object\n",
      " 8   Total         840 non-null    object\n",
      "dtypes: object(9)\n",
      "memory usage: 59.3+ KB\n"
     ]
    }
   ],
   "source": [
    "accesos_por_tecnologia_prov.info()"
   ]
  },
  {
   "cell_type": "code",
   "execution_count": 337,
   "metadata": {},
   "outputs": [
    {
     "data": {
      "text/html": [
       "<div>\n",
       "<style scoped>\n",
       "    .dataframe tbody tr th:only-of-type {\n",
       "        vertical-align: middle;\n",
       "    }\n",
       "\n",
       "    .dataframe tbody tr th {\n",
       "        vertical-align: top;\n",
       "    }\n",
       "\n",
       "    .dataframe thead th {\n",
       "        text-align: right;\n",
       "    }\n",
       "</style>\n",
       "<table border=\"1\" class=\"dataframe\">\n",
       "  <thead>\n",
       "    <tr style=\"text-align: right;\">\n",
       "      <th></th>\n",
       "      <th>Año</th>\n",
       "      <th>Trimestre</th>\n",
       "      <th>Provincia</th>\n",
       "      <th>ADSL</th>\n",
       "      <th>Cablemodem</th>\n",
       "      <th>Fibra óptica</th>\n",
       "      <th>Wireless</th>\n",
       "      <th>Otros</th>\n",
       "      <th>Total</th>\n",
       "    </tr>\n",
       "  </thead>\n",
       "  <tbody>\n",
       "    <tr>\n",
       "      <th>0</th>\n",
       "      <td>2022</td>\n",
       "      <td>3</td>\n",
       "      <td>Buenos Aires</td>\n",
       "      <td>339.648</td>\n",
       "      <td>2.748.325</td>\n",
       "      <td>1.436.433</td>\n",
       "      <td>126.846</td>\n",
       "      <td>70.416</td>\n",
       "      <td>4.721.668</td>\n",
       "    </tr>\n",
       "    <tr>\n",
       "      <th>1</th>\n",
       "      <td>2022</td>\n",
       "      <td>3</td>\n",
       "      <td>Capital Federal</td>\n",
       "      <td>140.791</td>\n",
       "      <td>1.240.125</td>\n",
       "      <td>129.218</td>\n",
       "      <td>5.758</td>\n",
       "      <td>31.787</td>\n",
       "      <td>1.547.679</td>\n",
       "    </tr>\n",
       "    <tr>\n",
       "      <th>2</th>\n",
       "      <td>2022</td>\n",
       "      <td>3</td>\n",
       "      <td>Catamarca</td>\n",
       "      <td>10.010</td>\n",
       "      <td>10.495</td>\n",
       "      <td>46.224</td>\n",
       "      <td>1.329</td>\n",
       "      <td>2.235</td>\n",
       "      <td>70.293</td>\n",
       "    </tr>\n",
       "    <tr>\n",
       "      <th>3</th>\n",
       "      <td>2022</td>\n",
       "      <td>3</td>\n",
       "      <td>Chaco</td>\n",
       "      <td>27.164</td>\n",
       "      <td>61.800</td>\n",
       "      <td>44.645</td>\n",
       "      <td>8.178</td>\n",
       "      <td>2.359</td>\n",
       "      <td>144.146</td>\n",
       "    </tr>\n",
       "    <tr>\n",
       "      <th>4</th>\n",
       "      <td>2022</td>\n",
       "      <td>3</td>\n",
       "      <td>Chubut</td>\n",
       "      <td>45.377</td>\n",
       "      <td>72.212</td>\n",
       "      <td>9.574</td>\n",
       "      <td>29.784</td>\n",
       "      <td>8.831</td>\n",
       "      <td>165.778</td>\n",
       "    </tr>\n",
       "  </tbody>\n",
       "</table>\n",
       "</div>"
      ],
      "text/plain": [
       "    Año Trimestre        Provincia     ADSL Cablemodem Fibra óptica Wireless  \\\n",
       "0  2022         3     Buenos Aires  339.648  2.748.325    1.436.433  126.846   \n",
       "1  2022         3  Capital Federal  140.791  1.240.125      129.218    5.758   \n",
       "2  2022         3        Catamarca   10.010     10.495       46.224    1.329   \n",
       "3  2022         3            Chaco   27.164     61.800       44.645    8.178   \n",
       "4  2022         3           Chubut   45.377     72.212        9.574   29.784   \n",
       "\n",
       "    Otros      Total  \n",
       "0  70.416  4.721.668  \n",
       "1  31.787  1.547.679  \n",
       "2   2.235     70.293  \n",
       "3   2.359    144.146  \n",
       "4   8.831    165.778  "
      ]
     },
     "execution_count": 337,
     "metadata": {},
     "output_type": "execute_result"
    }
   ],
   "source": [
    "accesos_por_tecnologia_prov.head()"
   ]
  },
  {
   "cell_type": "code",
   "execution_count": 338,
   "metadata": {},
   "outputs": [],
   "source": [
    "columnas = ['ADSL', 'Cablemodem', 'Fibra óptica', 'Wireless','Otros', 'Total']\n",
    "accesos_por_tecnologia_prov = transform_to_numeric(accesos_por_tecnologia_prov,columnas)"
   ]
  },
  {
   "cell_type": "code",
   "execution_count": 339,
   "metadata": {},
   "outputs": [],
   "source": [
    "# accesos_por_tecnologia_prov.to_csv(\"./_src/datasets_pbi/accesos_por_tecnologia_prov.csv\",index=False)"
   ]
  },
  {
   "cell_type": "markdown",
   "metadata": {},
   "source": [
    "### internet_ingresos "
   ]
  },
  {
   "cell_type": "code",
   "execution_count": 340,
   "metadata": {},
   "outputs": [
    {
     "name": "stdout",
     "output_type": "stream",
     "text": [
      "<class 'pandas.core.frame.DataFrame'>\n",
      "RangeIndex: 35 entries, 0 to 34\n",
      "Data columns (total 4 columns):\n",
      " #   Column                     Non-Null Count  Dtype \n",
      "---  ------                     --------------  ----- \n",
      " 0   Año                        35 non-null     int64 \n",
      " 1   Trimestre                  35 non-null     int64 \n",
      " 2   Ingresos (miles de pesos)  35 non-null     object\n",
      " 3   Periodo                    35 non-null     object\n",
      "dtypes: int64(2), object(2)\n",
      "memory usage: 1.2+ KB\n"
     ]
    }
   ],
   "source": [
    "internet_ingresos.info()"
   ]
  },
  {
   "cell_type": "code",
   "execution_count": 341,
   "metadata": {},
   "outputs": [
    {
     "data": {
      "text/html": [
       "<div>\n",
       "<style scoped>\n",
       "    .dataframe tbody tr th:only-of-type {\n",
       "        vertical-align: middle;\n",
       "    }\n",
       "\n",
       "    .dataframe tbody tr th {\n",
       "        vertical-align: top;\n",
       "    }\n",
       "\n",
       "    .dataframe thead th {\n",
       "        text-align: right;\n",
       "    }\n",
       "</style>\n",
       "<table border=\"1\" class=\"dataframe\">\n",
       "  <thead>\n",
       "    <tr style=\"text-align: right;\">\n",
       "      <th></th>\n",
       "      <th>Año</th>\n",
       "      <th>Trimestre</th>\n",
       "      <th>Ingresos (miles de pesos)</th>\n",
       "      <th>Periodo</th>\n",
       "    </tr>\n",
       "  </thead>\n",
       "  <tbody>\n",
       "    <tr>\n",
       "      <th>0</th>\n",
       "      <td>2022</td>\n",
       "      <td>3</td>\n",
       "      <td>67.055.930</td>\n",
       "      <td>Jul-Sept 2022</td>\n",
       "    </tr>\n",
       "    <tr>\n",
       "      <th>1</th>\n",
       "      <td>2022</td>\n",
       "      <td>2</td>\n",
       "      <td>60.335.724</td>\n",
       "      <td>Abr-Jun 2022</td>\n",
       "    </tr>\n",
       "    <tr>\n",
       "      <th>2</th>\n",
       "      <td>2022</td>\n",
       "      <td>1</td>\n",
       "      <td>55.589.997</td>\n",
       "      <td>Ene-Mar 2022</td>\n",
       "    </tr>\n",
       "    <tr>\n",
       "      <th>3</th>\n",
       "      <td>2021</td>\n",
       "      <td>4</td>\n",
       "      <td>45.467.887</td>\n",
       "      <td>Oct-Dic 2021</td>\n",
       "    </tr>\n",
       "    <tr>\n",
       "      <th>4</th>\n",
       "      <td>2021</td>\n",
       "      <td>3</td>\n",
       "      <td>42.999.944</td>\n",
       "      <td>Jul-Sept 2021</td>\n",
       "    </tr>\n",
       "  </tbody>\n",
       "</table>\n",
       "</div>"
      ],
      "text/plain": [
       "    Año  Trimestre Ingresos (miles de pesos)        Periodo\n",
       "0  2022          3                67.055.930  Jul-Sept 2022\n",
       "1  2022          2                60.335.724   Abr-Jun 2022\n",
       "2  2022          1                55.589.997   Ene-Mar 2022\n",
       "3  2021          4                45.467.887   Oct-Dic 2021\n",
       "4  2021          3                42.999.944  Jul-Sept 2021"
      ]
     },
     "execution_count": 341,
     "metadata": {},
     "output_type": "execute_result"
    }
   ],
   "source": [
    "internet_ingresos.head()"
   ]
  },
  {
   "cell_type": "markdown",
   "metadata": {},
   "source": [
    "Al igual que en accesos_por_tecnologia, vamos a transformar la columna de Ingresos (miles de pesos) y a eliminar la columna Periodo pues ya la tenemos dividida en Año y Trimestre\n"
   ]
  },
  {
   "cell_type": "code",
   "execution_count": 342,
   "metadata": {},
   "outputs": [],
   "source": [
    "internet_ingresos.drop(columns=\"Periodo\",inplace=True)\n",
    "internet_ingresos = transform_to_numeric(internet_ingresos,[\"Ingresos (miles de pesos)\"])"
   ]
  },
  {
   "cell_type": "code",
   "execution_count": 343,
   "metadata": {},
   "outputs": [
    {
     "data": {
      "image/png": "[encoded data removed]",
      "text/plain": [
       "<Figure size 640x480 with 1 Axes>"
      ]
     },
     "metadata": {},
     "output_type": "display_data"
    }
   ],
   "source": [
    "# Gráfico de línea en Seaborn\n",
    "sns.lineplot(data=internet_ingresos, x='Año', y='Ingresos (miles de pesos)')\n",
    "plt.xlabel('Año')\n",
    "plt.ylabel('Ingresos (miles de pesos)')\n",
    "plt.title('Evolución de los ingresos de Internet en miles de pesos')\n",
    "plt.show()"
   ]
  },
  {
   "cell_type": "code",
   "execution_count": 344,
   "metadata": {},
   "outputs": [],
   "source": [
    "internet_ingresos.to_csv(\"./_src/datasets_pbi/internet_ingresos.csv\",index=False)"
   ]
  },
  {
   "cell_type": "markdown",
   "metadata": {},
   "source": [
    "### internet baf"
   ]
  },
  {
   "cell_type": "code",
   "execution_count": 345,
   "metadata": {},
   "outputs": [
    {
     "name": "stdout",
     "output_type": "stream",
     "text": [
      "<class 'pandas.core.frame.DataFrame'>\n",
      "RangeIndex: 840 entries, 0 to 839\n",
      "Data columns (total 6 columns):\n",
      " #   Column            Non-Null Count  Dtype \n",
      "---  ------            --------------  ----- \n",
      " 0   Año               840 non-null    int64 \n",
      " 1   Trimestre         840 non-null    int64 \n",
      " 2   Provincia         840 non-null    object\n",
      " 3   Banda ancha fija  840 non-null    object\n",
      " 4   Dial up           838 non-null    object\n",
      " 5   Total             840 non-null    object\n",
      "dtypes: int64(2), object(4)\n",
      "memory usage: 39.5+ KB\n"
     ]
    }
   ],
   "source": [
    "internet_baf.info()"
   ]
  },
  {
   "cell_type": "code",
   "execution_count": 346,
   "metadata": {},
   "outputs": [
    {
     "data": {
      "text/html": [
       "<div>\n",
       "<style scoped>\n",
       "    .dataframe tbody tr th:only-of-type {\n",
       "        vertical-align: middle;\n",
       "    }\n",
       "\n",
       "    .dataframe tbody tr th {\n",
       "        vertical-align: top;\n",
       "    }\n",
       "\n",
       "    .dataframe thead th {\n",
       "        text-align: right;\n",
       "    }\n",
       "</style>\n",
       "<table border=\"1\" class=\"dataframe\">\n",
       "  <thead>\n",
       "    <tr style=\"text-align: right;\">\n",
       "      <th></th>\n",
       "      <th>Año</th>\n",
       "      <th>Trimestre</th>\n",
       "      <th>Provincia</th>\n",
       "      <th>Banda ancha fija</th>\n",
       "      <th>Dial up</th>\n",
       "      <th>Total</th>\n",
       "    </tr>\n",
       "  </thead>\n",
       "  <tbody>\n",
       "    <tr>\n",
       "      <th>0</th>\n",
       "      <td>2022</td>\n",
       "      <td>3</td>\n",
       "      <td>Buenos Aires</td>\n",
       "      <td>4.715.469</td>\n",
       "      <td>6.199</td>\n",
       "      <td>4.721.668</td>\n",
       "    </tr>\n",
       "    <tr>\n",
       "      <th>1</th>\n",
       "      <td>2022</td>\n",
       "      <td>3</td>\n",
       "      <td>Capital Federal</td>\n",
       "      <td>1.545.534</td>\n",
       "      <td>2.145</td>\n",
       "      <td>1.547.679</td>\n",
       "    </tr>\n",
       "    <tr>\n",
       "      <th>2</th>\n",
       "      <td>2022</td>\n",
       "      <td>3</td>\n",
       "      <td>Catamarca</td>\n",
       "      <td>70.292</td>\n",
       "      <td>1</td>\n",
       "      <td>70.293</td>\n",
       "    </tr>\n",
       "    <tr>\n",
       "      <th>3</th>\n",
       "      <td>2022</td>\n",
       "      <td>3</td>\n",
       "      <td>Chaco</td>\n",
       "      <td>144.141</td>\n",
       "      <td>5</td>\n",
       "      <td>144.146</td>\n",
       "    </tr>\n",
       "    <tr>\n",
       "      <th>4</th>\n",
       "      <td>2022</td>\n",
       "      <td>3</td>\n",
       "      <td>Chubut</td>\n",
       "      <td>164.874</td>\n",
       "      <td>904</td>\n",
       "      <td>165.778</td>\n",
       "    </tr>\n",
       "    <tr>\n",
       "      <th>5</th>\n",
       "      <td>2022</td>\n",
       "      <td>3</td>\n",
       "      <td>Córdoba</td>\n",
       "      <td>1.038.600</td>\n",
       "      <td>68</td>\n",
       "      <td>1.038.668</td>\n",
       "    </tr>\n",
       "    <tr>\n",
       "      <th>6</th>\n",
       "      <td>2022</td>\n",
       "      <td>3</td>\n",
       "      <td>Corrientes</td>\n",
       "      <td>144.842</td>\n",
       "      <td>4</td>\n",
       "      <td>144.846</td>\n",
       "    </tr>\n",
       "    <tr>\n",
       "      <th>7</th>\n",
       "      <td>2022</td>\n",
       "      <td>3</td>\n",
       "      <td>Entre Ríos</td>\n",
       "      <td>268.937</td>\n",
       "      <td>22</td>\n",
       "      <td>268.959</td>\n",
       "    </tr>\n",
       "    <tr>\n",
       "      <th>8</th>\n",
       "      <td>2022</td>\n",
       "      <td>3</td>\n",
       "      <td>Formosa</td>\n",
       "      <td>68.537</td>\n",
       "      <td>1</td>\n",
       "      <td>68.538</td>\n",
       "    </tr>\n",
       "    <tr>\n",
       "      <th>9</th>\n",
       "      <td>2022</td>\n",
       "      <td>3</td>\n",
       "      <td>Jujuy</td>\n",
       "      <td>118.823</td>\n",
       "      <td>- 0</td>\n",
       "      <td>118.823</td>\n",
       "    </tr>\n",
       "  </tbody>\n",
       "</table>\n",
       "</div>"
      ],
      "text/plain": [
       "    Año  Trimestre        Provincia Banda ancha fija Dial up      Total\n",
       "0  2022          3     Buenos Aires        4.715.469   6.199  4.721.668\n",
       "1  2022          3  Capital Federal        1.545.534   2.145  1.547.679\n",
       "2  2022          3        Catamarca           70.292       1     70.293\n",
       "3  2022          3            Chaco          144.141       5    144.146\n",
       "4  2022          3           Chubut          164.874     904    165.778\n",
       "5  2022          3          Córdoba        1.038.600      68  1.038.668\n",
       "6  2022          3       Corrientes          144.842       4    144.846\n",
       "7  2022          3       Entre Ríos          268.937      22    268.959\n",
       "8  2022          3          Formosa           68.537       1     68.538\n",
       "9  2022          3            Jujuy          118.823     - 0    118.823"
      ]
     },
     "execution_count": 346,
     "metadata": {},
     "output_type": "execute_result"
    }
   ],
   "source": [
    "internet_baf.head(10)"
   ]
  },
  {
   "cell_type": "markdown",
   "metadata": {},
   "source": [
    "Procedemos a transformar correctamente las columnas con valores numericos"
   ]
  },
  {
   "cell_type": "code",
   "execution_count": 347,
   "metadata": {},
   "outputs": [],
   "source": [
    "internet_baf[\"Dial up\"] = internet_baf[\"Dial up\"].str.replace(\"-\",\"\")\n",
    "internet_baf = transform_to_numeric(internet_baf,[\"Banda ancha fija\",\"Dial up\",\"Total\"])"
   ]
  },
  {
   "cell_type": "code",
   "execution_count": 348,
   "metadata": {},
   "outputs": [],
   "source": [
    "# internet_baf.to_csv(\"./_src/datasets_pbi/internet_baf.csv\",index=False)"
   ]
  },
  {
   "cell_type": "markdown",
   "metadata": {},
   "source": [
    "### internet_penetracion"
   ]
  },
  {
   "cell_type": "code",
   "execution_count": 349,
   "metadata": {},
   "outputs": [
    {
     "name": "stdout",
     "output_type": "stream",
     "text": [
      "<class 'pandas.core.frame.DataFrame'>\n",
      "RangeIndex: 840 entries, 0 to 839\n",
      "Data columns (total 4 columns):\n",
      " #   Column                        Non-Null Count  Dtype \n",
      "---  ------                        --------------  ----- \n",
      " 0   Año                           840 non-null    int64 \n",
      " 1   Trimestre                     840 non-null    int64 \n",
      " 2   Provincia                     840 non-null    object\n",
      " 3   Accesos por cada 100 hogares  840 non-null    object\n",
      "dtypes: int64(2), object(2)\n",
      "memory usage: 26.4+ KB\n"
     ]
    }
   ],
   "source": [
    "internet_penetracion.info()"
   ]
  },
  {
   "cell_type": "code",
   "execution_count": 350,
   "metadata": {},
   "outputs": [
    {
     "data": {
      "text/html": [
       "<div>\n",
       "<style scoped>\n",
       "    .dataframe tbody tr th:only-of-type {\n",
       "        vertical-align: middle;\n",
       "    }\n",
       "\n",
       "    .dataframe tbody tr th {\n",
       "        vertical-align: top;\n",
       "    }\n",
       "\n",
       "    .dataframe thead th {\n",
       "        text-align: right;\n",
       "    }\n",
       "</style>\n",
       "<table border=\"1\" class=\"dataframe\">\n",
       "  <thead>\n",
       "    <tr style=\"text-align: right;\">\n",
       "      <th></th>\n",
       "      <th>Año</th>\n",
       "      <th>Trimestre</th>\n",
       "      <th>Provincia</th>\n",
       "      <th>Accesos por cada 100 hogares</th>\n",
       "    </tr>\n",
       "  </thead>\n",
       "  <tbody>\n",
       "    <tr>\n",
       "      <th>0</th>\n",
       "      <td>2022</td>\n",
       "      <td>3</td>\n",
       "      <td>Buenos Aires</td>\n",
       "      <td>78,11</td>\n",
       "    </tr>\n",
       "    <tr>\n",
       "      <th>1</th>\n",
       "      <td>2022</td>\n",
       "      <td>3</td>\n",
       "      <td>Capital Federal</td>\n",
       "      <td>122,28</td>\n",
       "    </tr>\n",
       "    <tr>\n",
       "      <th>2</th>\n",
       "      <td>2022</td>\n",
       "      <td>3</td>\n",
       "      <td>Catamarca</td>\n",
       "      <td>65,33</td>\n",
       "    </tr>\n",
       "    <tr>\n",
       "      <th>3</th>\n",
       "      <td>2022</td>\n",
       "      <td>3</td>\n",
       "      <td>Chaco</td>\n",
       "      <td>43,86</td>\n",
       "    </tr>\n",
       "    <tr>\n",
       "      <th>4</th>\n",
       "      <td>2022</td>\n",
       "      <td>3</td>\n",
       "      <td>Chubut</td>\n",
       "      <td>84,38</td>\n",
       "    </tr>\n",
       "  </tbody>\n",
       "</table>\n",
       "</div>"
      ],
      "text/plain": [
       "    Año  Trimestre        Provincia Accesos por cada 100 hogares\n",
       "0  2022          3     Buenos Aires                        78,11\n",
       "1  2022          3  Capital Federal                       122,28\n",
       "2  2022          3        Catamarca                        65,33\n",
       "3  2022          3            Chaco                        43,86\n",
       "4  2022          3           Chubut                        84,38"
      ]
     },
     "execution_count": 350,
     "metadata": {},
     "output_type": "execute_result"
    }
   ],
   "source": [
    "internet_penetracion.head()"
   ]
  },
  {
   "cell_type": "markdown",
   "metadata": {},
   "source": [
    "Observemos que tenemos la columna `Accesos por cada 100 hogares` como _string_ en vez de _numerica_. Vamos a transformarla para poder realizar analisis estadisticos mas precisos\n"
   ]
  },
  {
   "cell_type": "code",
   "execution_count": 351,
   "metadata": {},
   "outputs": [],
   "source": [
    "internet_penetracion[\"Accesos por cada 100 hogares\"] = internet_penetracion[\"Accesos por cada 100 hogares\"].str.replace(\",\",\".\")\n",
    "internet_penetracion[\"Accesos por cada 100 hogares\"] = pd.to_numeric(internet_penetracion[\"Accesos por cada 100 hogares\"])"
   ]
  },
  {
   "cell_type": "code",
   "execution_count": 352,
   "metadata": {},
   "outputs": [
    {
     "data": {
      "text/html": [
       "<div>\n",
       "<style scoped>\n",
       "    .dataframe tbody tr th:only-of-type {\n",
       "        vertical-align: middle;\n",
       "    }\n",
       "\n",
       "    .dataframe tbody tr th {\n",
       "        vertical-align: top;\n",
       "    }\n",
       "\n",
       "    .dataframe thead th {\n",
       "        text-align: right;\n",
       "    }\n",
       "</style>\n",
       "<table border=\"1\" class=\"dataframe\">\n",
       "  <thead>\n",
       "    <tr style=\"text-align: right;\">\n",
       "      <th></th>\n",
       "      <th>Año</th>\n",
       "      <th>Trimestre</th>\n",
       "      <th>Provincia</th>\n",
       "      <th>Accesos por cada 100 hogares</th>\n",
       "    </tr>\n",
       "  </thead>\n",
       "  <tbody>\n",
       "    <tr>\n",
       "      <th>0</th>\n",
       "      <td>2022</td>\n",
       "      <td>3</td>\n",
       "      <td>Buenos Aires</td>\n",
       "      <td>78.11</td>\n",
       "    </tr>\n",
       "    <tr>\n",
       "      <th>1</th>\n",
       "      <td>2022</td>\n",
       "      <td>3</td>\n",
       "      <td>Capital Federal</td>\n",
       "      <td>122.28</td>\n",
       "    </tr>\n",
       "    <tr>\n",
       "      <th>2</th>\n",
       "      <td>2022</td>\n",
       "      <td>3</td>\n",
       "      <td>Catamarca</td>\n",
       "      <td>65.33</td>\n",
       "    </tr>\n",
       "    <tr>\n",
       "      <th>3</th>\n",
       "      <td>2022</td>\n",
       "      <td>3</td>\n",
       "      <td>Chaco</td>\n",
       "      <td>43.86</td>\n",
       "    </tr>\n",
       "    <tr>\n",
       "      <th>4</th>\n",
       "      <td>2022</td>\n",
       "      <td>3</td>\n",
       "      <td>Chubut</td>\n",
       "      <td>84.38</td>\n",
       "    </tr>\n",
       "  </tbody>\n",
       "</table>\n",
       "</div>"
      ],
      "text/plain": [
       "    Año  Trimestre        Provincia  Accesos por cada 100 hogares\n",
       "0  2022          3     Buenos Aires                         78.11\n",
       "1  2022          3  Capital Federal                        122.28\n",
       "2  2022          3        Catamarca                         65.33\n",
       "3  2022          3            Chaco                         43.86\n",
       "4  2022          3           Chubut                         84.38"
      ]
     },
     "execution_count": 352,
     "metadata": {},
     "output_type": "execute_result"
    }
   ],
   "source": [
    "internet_penetracion.head()"
   ]
  },
  {
   "cell_type": "code",
   "execution_count": null,
   "metadata": {},
   "outputs": [],
   "source": []
  },
  {
   "cell_type": "markdown",
   "metadata": {},
   "source": [
    "Utilicemos un diagrama de caja para  analizar la distribución de la penetración de Internet en los hogares.\n",
    "Este enfoque nos permitirá visualizar y examinar la variabilidad en la adopción de Internet en diferentes provincias, identificando posibles diferencias significativas, valores atipicos y situaciones inusuales."
   ]
  },
  {
   "cell_type": "code",
   "execution_count": 358,
   "metadata": {},
   "outputs": [
    {
     "data": {
      "image/png": "[encoded data removed]",
      "text/plain": [
       "<Figure size 1100x500 with 1 Axes>"
      ]
     },
     "metadata": {},
     "output_type": "display_data"
    }
   ],
   "source": [
    "# Diagrama de caja en Seaborn\n",
    "plt.figure(figsize=(11, 5))\n",
    "sns.boxplot(data=internet_penetracion, x='Provincia', y='Accesos por cada 100 hogares')\n",
    "plt.xlabel('Provincia')\n",
    "plt.ylabel('Accesos por cada 100 hogares')\n",
    "plt.title('Distribución de la penetración de Internet por provincia')\n",
    "plt.xticks(rotation=90)\n",
    "plt.show()"
   ]
  },
  {
   "cell_type": "markdown",
   "metadata": {},
   "source": [
    "Al analizar el diagrama de caja resultante, se puede observar visualmente que las provincias de `Mendoza`, `Neuquén` y `San Juan` presentan **valores atípicos**. \n",
    "\n",
    "Además, podemos destacar que la provincia de `Capital Federal` muestra una posición considerablemente más alta en términos de accesos en comparación con las demás provincias. Esto nos permite implementar estrategias específicas y promover el crecimiento de la conectividad en áreas específicas"
   ]
  },
  {
   "cell_type": "code",
   "execution_count": 359,
   "metadata": {},
   "outputs": [],
   "source": [
    "# Finalizamos llevando el dataset limpio a un csv \n",
    "# internet_penetracion.to_csv(\"./_src/datasets_pbi/internet_penetracion.csv\",index=False)"
   ]
  },
  {
   "cell_type": "markdown",
   "metadata": {},
   "source": [
    "### accesos_por_velocidad"
   ]
  },
  {
   "cell_type": "code",
   "execution_count": 366,
   "metadata": {},
   "outputs": [
    {
     "data": {
      "text/html": [
       "<div>\n",
       "<style scoped>\n",
       "    .dataframe tbody tr th:only-of-type {\n",
       "        vertical-align: middle;\n",
       "    }\n",
       "\n",
       "    .dataframe tbody tr th {\n",
       "        vertical-align: top;\n",
       "    }\n",
       "\n",
       "    .dataframe thead th {\n",
       "        text-align: right;\n",
       "    }\n",
       "</style>\n",
       "<table border=\"1\" class=\"dataframe\">\n",
       "  <thead>\n",
       "    <tr style=\"text-align: right;\">\n",
       "      <th></th>\n",
       "      <th>Año</th>\n",
       "      <th>Trimestre</th>\n",
       "      <th>Provincia</th>\n",
       "      <th>HASTA 512 kbps</th>\n",
       "      <th>+ 512 Kbps - 1 Mbps</th>\n",
       "      <th>+ 1 Mbps - 6 Mbps</th>\n",
       "      <th>+ 6 Mbps - 10 Mbps</th>\n",
       "      <th>+ 10 Mbps - 20 Mbps</th>\n",
       "      <th>+ 20 Mbps - 30 Mbps</th>\n",
       "      <th>+ 30 Mbps</th>\n",
       "      <th>OTROS</th>\n",
       "      <th>Total</th>\n",
       "    </tr>\n",
       "  </thead>\n",
       "  <tbody>\n",
       "    <tr>\n",
       "      <th>0</th>\n",
       "      <td>2022</td>\n",
       "      <td>3</td>\n",
       "      <td>Buenos Aires</td>\n",
       "      <td>29.985</td>\n",
       "      <td>27.709</td>\n",
       "      <td>290.315</td>\n",
       "      <td>297.915</td>\n",
       "      <td>267.044</td>\n",
       "      <td>124.190</td>\n",
       "      <td>3.618.689</td>\n",
       "      <td>65.821</td>\n",
       "      <td>4.721.668</td>\n",
       "    </tr>\n",
       "    <tr>\n",
       "      <th>1</th>\n",
       "      <td>2022</td>\n",
       "      <td>3</td>\n",
       "      <td>Capital Federal</td>\n",
       "      <td>517</td>\n",
       "      <td>5.742</td>\n",
       "      <td>34.371</td>\n",
       "      <td>67.829</td>\n",
       "      <td>51.946</td>\n",
       "      <td>28.692</td>\n",
       "      <td>1.253.105</td>\n",
       "      <td>105.477</td>\n",
       "      <td>1.547.679</td>\n",
       "    </tr>\n",
       "    <tr>\n",
       "      <th>2</th>\n",
       "      <td>2022</td>\n",
       "      <td>3</td>\n",
       "      <td>Catamarca</td>\n",
       "      <td>71</td>\n",
       "      <td>384</td>\n",
       "      <td>3.107</td>\n",
       "      <td>5.389</td>\n",
       "      <td>5.099</td>\n",
       "      <td>3.737</td>\n",
       "      <td>50.298</td>\n",
       "      <td>2.208</td>\n",
       "      <td>70.293</td>\n",
       "    </tr>\n",
       "    <tr>\n",
       "      <th>3</th>\n",
       "      <td>2022</td>\n",
       "      <td>3</td>\n",
       "      <td>Chaco</td>\n",
       "      <td>461</td>\n",
       "      <td>987</td>\n",
       "      <td>16.782</td>\n",
       "      <td>18.938</td>\n",
       "      <td>8.049</td>\n",
       "      <td>15.828</td>\n",
       "      <td>79.390</td>\n",
       "      <td>3.711</td>\n",
       "      <td>144.146</td>\n",
       "    </tr>\n",
       "    <tr>\n",
       "      <th>4</th>\n",
       "      <td>2022</td>\n",
       "      <td>3</td>\n",
       "      <td>Chubut</td>\n",
       "      <td>109</td>\n",
       "      <td>1.444</td>\n",
       "      <td>45.707</td>\n",
       "      <td>30.940</td>\n",
       "      <td>34.682</td>\n",
       "      <td>15.309</td>\n",
       "      <td>17.563</td>\n",
       "      <td>20.024</td>\n",
       "      <td>165.778</td>\n",
       "    </tr>\n",
       "  </tbody>\n",
       "</table>\n",
       "</div>"
      ],
      "text/plain": [
       "    Año Trimestre        Provincia HASTA 512 kbps + 512 Kbps - 1 Mbps  \\\n",
       "0  2022         3     Buenos Aires         29.985              27.709   \n",
       "1  2022         3  Capital Federal            517               5.742   \n",
       "2  2022         3        Catamarca             71                 384   \n",
       "3  2022         3            Chaco            461                 987   \n",
       "4  2022         3           Chubut            109               1.444   \n",
       "\n",
       "  + 1 Mbps - 6 Mbps + 6 Mbps - 10 Mbps + 10 Mbps - 20 Mbps  \\\n",
       "0           290.315            297.915             267.044   \n",
       "1            34.371             67.829              51.946   \n",
       "2             3.107              5.389               5.099   \n",
       "3            16.782             18.938               8.049   \n",
       "4            45.707             30.940              34.682   \n",
       "\n",
       "  + 20 Mbps - 30 Mbps  + 30 Mbps    OTROS      Total  \n",
       "0             124.190  3.618.689   65.821  4.721.668  \n",
       "1              28.692  1.253.105  105.477  1.547.679  \n",
       "2               3.737     50.298    2.208     70.293  \n",
       "3              15.828     79.390    3.711    144.146  \n",
       "4              15.309     17.563   20.024    165.778  "
      ]
     },
     "execution_count": 366,
     "metadata": {},
     "output_type": "execute_result"
    }
   ],
   "source": [
    "accesos_por_velocidad.head()"
   ]
  },
  {
   "cell_type": "code",
   "execution_count": 367,
   "metadata": {},
   "outputs": [],
   "source": [
    "columnas_numericas = [\"Año\",\"Trimestre\",'HASTA 512 kbps','+ 512 Kbps - 1 Mbps',\n",
    "                      '+ 1 Mbps - 6 Mbps', '+ 6 Mbps - 10 Mbps','+ 10 Mbps - 20 Mbps',\n",
    "                      '+ 20 Mbps - 30 Mbps', '+ 30 Mbps', 'OTROS','Total']\n"
   ]
  },
  {
   "cell_type": "code",
   "execution_count": 368,
   "metadata": {},
   "outputs": [],
   "source": [
    "accesos_por_velocidad = transform_to_numeric(accesos_por_velocidad,columnas_numericas)"
   ]
  },
  {
   "cell_type": "code",
   "execution_count": 370,
   "metadata": {},
   "outputs": [],
   "source": [
    "#accesos_por_velocidad.to_csv(\"./_src/datasets_pbi/accesos_por_velocidad.csv\")"
   ]
  }
 ],
 "metadata": {
  "kernelspec": {
   "display_name": "Python 3",
   "language": "python",
   "name": "python3"
  },
  "language_info": {
   "codemirror_mode": {
    "name": "ipython",
    "version": 3
   },
   "file_extension": ".py",
   "mimetype": "text/x-python",
   "name": "python",
   "nbconvert_exporter": "python",
   "pygments_lexer": "ipython3",
   "version": "3.9.5"
  },
  "orig_nbformat": 4
 },
 "nbformat": 4,
 "nbformat_minor": 2
}
